{
 "cells": [
  {
   "cell_type": "code",
   "execution_count": 1,
   "id": "7090ce4a-b5b1-4831-99f3-ff58a4d718e9",
   "metadata": {
    "scrolled": true
   },
   "outputs": [
    {
     "name": "stdout",
     "output_type": "stream",
     "text": [
      "Collecting nltk\n",
      "  Using cached nltk-3.8.1-py3-none-any.whl (1.5 MB)\n",
      "Collecting click (from nltk)\n",
      "  Using cached click-8.1.7-py3-none-any.whl.metadata (3.0 kB)\n",
      "Requirement already satisfied: joblib in f:\\python & unity & blender\\tf\\.venv\\lib\\site-packages (from nltk) (1.3.2)\n",
      "Collecting regex>=2021.8.3 (from nltk)\n",
      "  Downloading regex-2023.12.25-cp311-cp311-win_amd64.whl.metadata (41 kB)\n",
      "     ---------------------------------------- 0.0/42.0 kB ? eta -:--:--\n",
      "     ---------------------------------------- 0.0/42.0 kB ? eta -:--:--\n",
      "     --------- ------------------------------ 10.2/42.0 kB ? eta -:--:--\n",
      "     --------- ------------------------------ 10.2/42.0 kB ? eta -:--:--\n",
      "     ------------------- ------------------- 20.5/42.0 kB 93.1 kB/s eta 0:00:01\n",
      "     ------------------- ------------------- 20.5/42.0 kB 93.1 kB/s eta 0:00:01\n",
      "     -------------------------------------  41.0/42.0 kB 163.4 kB/s eta 0:00:01\n",
      "     -------------------------------------- 42.0/42.0 kB 126.9 kB/s eta 0:00:00\n",
      "Requirement already satisfied: tqdm in f:\\python & unity & blender\\tf\\.venv\\lib\\site-packages (from nltk) (4.66.1)\n",
      "Requirement already satisfied: colorama in f:\\python & unity & blender\\tf\\.venv\\lib\\site-packages (from click->nltk) (0.4.6)\n",
      "Downloading regex-2023.12.25-cp311-cp311-win_amd64.whl (269 kB)\n",
      "   ---------------------------------------- 0.0/269.5 kB ? eta -:--:--\n",
      "   - -------------------------------------- 10.2/269.5 kB ? eta -:--:--\n",
      "   - -------------------------------------- 10.2/269.5 kB ? eta -:--:--\n",
      "   ----- --------------------------------- 41.0/269.5 kB 245.8 kB/s eta 0:00:01\n",
      "   ----- --------------------------------- 41.0/269.5 kB 245.8 kB/s eta 0:00:01\n",
      "   ----------- --------------------------- 81.9/269.5 kB 351.4 kB/s eta 0:00:01\n",
      "   ----------------- -------------------- 122.9/269.5 kB 423.5 kB/s eta 0:00:01\n",
      "   ----------------- -------------------- 122.9/269.5 kB 423.5 kB/s eta 0:00:01\n",
      "   ------------------------ ------------- 174.1/269.5 kB 455.1 kB/s eta 0:00:01\n",
      "   ------------------------ ------------- 174.1/269.5 kB 455.1 kB/s eta 0:00:01\n",
      "   ------------------------------- ------ 225.3/269.5 kB 509.6 kB/s eta 0:00:01\n",
      "   ------------------------------- ------ 225.3/269.5 kB 509.6 kB/s eta 0:00:01\n",
      "   ---------------------------------- --- 245.8/269.5 kB 442.7 kB/s eta 0:00:01\n",
      "   -------------------------------------  266.2/269.5 kB 431.0 kB/s eta 0:00:01\n",
      "   -------------------------------------- 269.5/269.5 kB 425.0 kB/s eta 0:00:00\n",
      "Using cached click-8.1.7-py3-none-any.whl (97 kB)\n",
      "Installing collected packages: regex, click, nltk\n",
      "Successfully installed click-8.1.7 nltk-3.8.1 regex-2023.12.25\n"
     ]
    }
   ],
   "source": [
    "!pip install nltk"
   ]
  },
  {
   "cell_type": "code",
   "execution_count": 10,
   "id": "6aab410e-7b5a-46de-89c5-940e6839ccb5",
   "metadata": {},
   "outputs": [
    {
     "name": "stdout",
     "output_type": "stream",
     "text": [
      "showing info https://raw.githubusercontent.com/nltk/nltk_data/gh-pages/index.xml\n"
     ]
    },
    {
     "data": {
      "text/plain": [
       "True"
      ]
     },
     "execution_count": 10,
     "metadata": {},
     "output_type": "execute_result"
    }
   ],
   "source": [
    "import nltk\n",
    "nltk.download()"
   ]
  },
  {
   "cell_type": "code",
   "execution_count": 23,
   "id": "bb6130fd-f24e-486f-bef8-bd36db1f41e9",
   "metadata": {},
   "outputs": [
    {
     "name": "stdout",
     "output_type": "stream",
     "text": [
      "stem:locked ->lock\n",
      "lancaster:locked ->lock\n",
      "lemmatizerVerb:locked ->lock\n",
      "lemmatizerAdjective:locked ->locked\n",
      "lemmatizerName:locked ->locked\n",
      "--------------------------------------------------\n",
      "stem:brothers ->brother\n",
      "lancaster:brothers ->broth\n",
      "lemmatizerVerb:brothers ->brothers\n",
      "lemmatizerAdjective:brothers ->brothers\n",
      "lemmatizerName:brothers ->brother\n",
      "--------------------------------------------------\n",
      "stem:brother ->brother\n",
      "lancaster:brother ->broth\n",
      "lemmatizerVerb:brother ->brother\n",
      "lemmatizerAdjective:brother ->brother\n",
      "lemmatizerName:brother ->brother\n",
      "--------------------------------------------------\n",
      "stem:goes ->goe\n",
      "lancaster:goes ->goe\n",
      "lemmatizerVerb:goes ->go\n",
      "lemmatizerAdjective:goes ->goes\n",
      "lemmatizerName:goes ->go\n",
      "--------------------------------------------------\n",
      "stem:hello ->hello\n",
      "lancaster:hello ->hello\n",
      "lemmatizerVerb:hello ->hello\n",
      "lemmatizerAdjective:hello ->hello\n",
      "lemmatizerName:hello ->hello\n",
      "--------------------------------------------------\n",
      "stem:did ->did\n",
      "lancaster:did ->did\n",
      "lemmatizerVerb:did ->do\n",
      "lemmatizerAdjective:did ->did\n",
      "lemmatizerName:did ->did\n",
      "--------------------------------------------------\n"
     ]
    }
   ],
   "source": [
    "from nltk.stem.porter import *\n",
    "from nltk.stem.lancaster import *\n",
    "from nltk.stem.wordnet import WordNetLemmatizer\n",
    "\n",
    "tokens = [\"locked\" , \"brothers\",\"brother\", \"goes\" ,\"hello\" , \"did\"]\n",
    "\n",
    "stremmer = PorterStemmer()\n",
    "lancaster = LancasterStemmer()\n",
    "lemmatizer = WordNetLemmatizer()\n",
    "\n",
    "for token in tokens:\n",
    "    print(\"stem:\" +token + \" ->\" + stremmer.stem(token))\n",
    "    print(\"lancaster:\" +token + \" ->\" + lancaster.stem(token))\n",
    "    print(\"lemmatizerVerb:\" +token + \" ->\" + lemmatizer.lemmatize(token, pos=\"v\"))\n",
    "    print(\"lemmatizerAdjective:\" +token + \" ->\" + lemmatizer.lemmatize(token, pos=\"a\"))\n",
    "    print(\"lemmatizerName:\" +token + \" ->\" + lemmatizer.lemmatize(token, pos=\"n\"))\n",
    "\n",
    "    print(\"-\"*50)"
   ]
  },
  {
   "cell_type": "markdown",
   "id": "9853ecb4-2273-430c-9754-b98f0700c77f",
   "metadata": {},
   "source": [
    "# For persian"
   ]
  },
  {
   "cell_type": "code",
   "execution_count": 14,
   "id": "f642c829-7603-4f03-a82d-4a26532d1415",
   "metadata": {},
   "outputs": [
    {
     "name": "stdout",
     "output_type": "stream",
     "text": [
      "Requirement already satisfied: hazm in f:\\python & unity & blender\\tf\\.venv\\lib\\site-packages (0.9.4)\n",
      "Requirement already satisfied: fasttext-wheel<0.10.0,>=0.9.2 in f:\\python & unity & blender\\tf\\.venv\\lib\\site-packages (from hazm) (0.9.2)\n",
      "Requirement already satisfied: flashtext<3.0,>=2.7 in f:\\python & unity & blender\\tf\\.venv\\lib\\site-packages (from hazm) (2.7)\n",
      "Requirement already satisfied: gensim<5.0.0,>=4.3.1 in f:\\python & unity & blender\\tf\\.venv\\lib\\site-packages (from hazm) (4.3.2)\n",
      "Requirement already satisfied: nltk<4.0.0,>=3.8.1 in f:\\python & unity & blender\\tf\\.venv\\lib\\site-packages (from hazm) (3.8.1)\n",
      "Requirement already satisfied: numpy==1.24.3 in f:\\python & unity & blender\\tf\\.venv\\lib\\site-packages (from hazm) (1.24.3)\n",
      "Requirement already satisfied: python-crfsuite<0.10.0,>=0.9.9 in f:\\python & unity & blender\\tf\\.venv\\lib\\site-packages (from hazm) (0.9.10)\n",
      "Requirement already satisfied: scikit-learn<2.0.0,>=1.2.2 in f:\\python & unity & blender\\tf\\.venv\\lib\\site-packages (from hazm) (1.3.2)\n",
      "Requirement already satisfied: pybind11>=2.2 in f:\\python & unity & blender\\tf\\.venv\\lib\\site-packages (from fasttext-wheel<0.10.0,>=0.9.2->hazm) (2.11.1)\n",
      "Requirement already satisfied: setuptools>=0.7.0 in f:\\python & unity & blender\\tf\\.venv\\lib\\site-packages (from fasttext-wheel<0.10.0,>=0.9.2->hazm) (65.5.0)\n",
      "Requirement already satisfied: scipy>=1.7.0 in f:\\python & unity & blender\\tf\\.venv\\lib\\site-packages (from gensim<5.0.0,>=4.3.1->hazm) (1.11.4)\n",
      "Requirement already satisfied: smart-open>=1.8.1 in f:\\python & unity & blender\\tf\\.venv\\lib\\site-packages (from gensim<5.0.0,>=4.3.1->hazm) (6.4.0)\n",
      "Requirement already satisfied: click in f:\\python & unity & blender\\tf\\.venv\\lib\\site-packages (from nltk<4.0.0,>=3.8.1->hazm) (8.1.7)\n",
      "Requirement already satisfied: joblib in f:\\python & unity & blender\\tf\\.venv\\lib\\site-packages (from nltk<4.0.0,>=3.8.1->hazm) (1.3.2)\n",
      "Requirement already satisfied: regex>=2021.8.3 in f:\\python & unity & blender\\tf\\.venv\\lib\\site-packages (from nltk<4.0.0,>=3.8.1->hazm) (2023.12.25)\n",
      "Requirement already satisfied: tqdm in f:\\python & unity & blender\\tf\\.venv\\lib\\site-packages (from nltk<4.0.0,>=3.8.1->hazm) (4.66.1)\n",
      "Requirement already satisfied: threadpoolctl>=2.0.0 in f:\\python & unity & blender\\tf\\.venv\\lib\\site-packages (from scikit-learn<2.0.0,>=1.2.2->hazm) (3.2.0)\n",
      "Requirement already satisfied: colorama in f:\\python & unity & blender\\tf\\.venv\\lib\\site-packages (from click->nltk<4.0.0,>=3.8.1->hazm) (0.4.6)\n"
     ]
    }
   ],
   "source": [
    "!pip install hazm"
   ]
  },
  {
   "cell_type": "code",
   "execution_count": 20,
   "id": "34afd0d2-6433-4e2b-85da-8017d7f56f71",
   "metadata": {},
   "outputs": [
    {
     "name": "stdout",
     "output_type": "stream",
     "text": [
      "stem:  کتابهای ->  کتاب\n",
      "lancaster:  کتابهای ->  کتاب\n",
      "--------------------------------------------------\n",
      "stem:  مدرسه ->  مدرسه\n",
      "lancaster:  مدرسه ->  مدرسه\n",
      "--------------------------------------------------\n",
      "stem:  مدرسه‌ها ->  مدرسه\n",
      "lancaster:  مدرسه‌ها ->  مدرسه\n",
      "--------------------------------------------------\n",
      "stem:  احراز هویت ->  احراز هو\n",
      "lancaster:  احراز هویت ->  احراز هویت\n",
      "--------------------------------------------------\n",
      "stem:  می‌بینم ->  می‌بین\n",
      "lancaster:  می‌بینم ->  دید#بین\n",
      "--------------------------------------------------\n",
      "stem:  می‌روم ->  می‌رو\n",
      "lancaster:  می‌روم ->  رفت#رو\n",
      "--------------------------------------------------\n"
     ]
    }
   ],
   "source": [
    "from hazm import *\n",
    "\n",
    "normalizer         = Normalizer()\n",
    "stemmer_persian    = Stemmer()\n",
    "lemmatizer_persian = Lemmatizer()\n",
    "\n",
    "pre_tokens = [\"کتابهای\" , \"مدرسه\" ,'مدرسه ها', \"احراز هویت\" , \"می بینم\" , \"میروم\"]\n",
    "\n",
    "for token in pre_tokens:\n",
    "    token = normalizer.normalize(token)\n",
    "    print(\"stem:  \"       + token + \" ->  \" + stemmer_persian.stem(token))\n",
    "    print(\"lancaster:  \"  + token + \" ->  \" + lemmatizer_persian.lemmatize(token))\n",
    "    print(\"-\"*50)"
   ]
  }
 ],
 "metadata": {
  "kernelspec": {
   "display_name": "Python 3 (ipykernel)",
   "language": "python",
   "name": "python3"
  },
  "language_info": {
   "codemirror_mode": {
    "name": "ipython",
    "version": 3
   },
   "file_extension": ".py",
   "mimetype": "text/x-python",
   "name": "python",
   "nbconvert_exporter": "python",
   "pygments_lexer": "ipython3",
   "version": "3.11.1"
  }
 },
 "nbformat": 4,
 "nbformat_minor": 5
}
