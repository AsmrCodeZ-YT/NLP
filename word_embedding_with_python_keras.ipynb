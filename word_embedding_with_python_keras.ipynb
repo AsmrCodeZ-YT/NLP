{
 "cells": [
  {
   "cell_type": "code",
   "execution_count": null,
   "id": "fa5185df",
   "metadata": {},
   "outputs": [],
   "source": [
    "sentences = ['This YouTube channel is perfect',\n",
    "            'Your videos are quite good',\n",
    "            'I enjoy this channel',\n",
    "            'I did not learn much from your videos',\n",
    "            'Excellent',\n",
    "            'poor work',\n",
    "            'it is not a good channel']"
   ]
  },
  {
   "cell_type": "code",
   "execution_count": null,
   "id": "731ffb16",
   "metadata": {},
   "outputs": [],
   "source": [
    "from tensorflow.keras.preprocessing.text import one_hot"
   ]
  },
  {
   "cell_type": "code",
   "execution_count": null,
   "id": "1f3a3dd9",
   "metadata": {},
   "outputs": [],
   "source": [
    "vocab_size = 500"
   ]
  },
  {
   "cell_type": "code",
   "execution_count": null,
   "id": "d2585412",
   "metadata": {},
   "outputs": [],
   "source": [
    "encodded_docs = [one_hot(sent, vocab_size) for sent in sentences]\n",
    "encodded_docs"
   ]
  },
  {
   "cell_type": "code",
   "execution_count": null,
   "id": "068a9d3a",
   "metadata": {},
   "outputs": [],
   "source": [
    "max_len = 8"
   ]
  },
  {
   "cell_type": "code",
   "execution_count": null,
   "id": "efd61bfb",
   "metadata": {},
   "outputs": [],
   "source": [
    "from tensorflow.keras.preprocessing.sequence import pad_sequences"
   ]
  },
  {
   "cell_type": "code",
   "execution_count": null,
   "id": "3499b2b3",
   "metadata": {},
   "outputs": [],
   "source": [
    "padded_docs = pad_sequences(encodded_docs, padding = 'pre', maxlen= max_len)\n",
    "padded_docs"
   ]
  },
  {
   "cell_type": "code",
   "execution_count": null,
   "id": "4a1f32b1",
   "metadata": {},
   "outputs": [],
   "source": [
    "from tensorflow.keras.layers import Embedding\n",
    "from tensorflow.keras.models import Sequential"
   ]
  },
  {
   "cell_type": "code",
   "execution_count": null,
   "id": "99e0a0e5",
   "metadata": {},
   "outputs": [],
   "source": [
    "dim = 10"
   ]
  },
  {
   "cell_type": "code",
   "execution_count": null,
   "id": "58348e76",
   "metadata": {},
   "outputs": [],
   "source": [
    "model = Sequential()\n",
    "model.add(Embedding(vocab_size, dim, input_length= max_len))"
   ]
  },
  {
   "cell_type": "code",
   "execution_count": null,
   "id": "b9e75bf1",
   "metadata": {},
   "outputs": [],
   "source": [
    "model.compile(optimizer = 'adam', loss = 'mse')"
   ]
  },
  {
   "cell_type": "code",
   "execution_count": null,
   "id": "0089a992",
   "metadata": {},
   "outputs": [],
   "source": [
    "model.summary()"
   ]
  },
  {
   "cell_type": "code",
   "execution_count": null,
   "id": "7d07627d",
   "metadata": {},
   "outputs": [],
   "source": [
    "model.predict(padded_docs)"
   ]
  },
  {
   "cell_type": "code",
   "execution_count": null,
   "id": "cb2a68c3",
   "metadata": {},
   "outputs": [],
   "source": [
    "padded_docs[1]"
   ]
  },
  {
   "cell_type": "code",
   "execution_count": null,
   "id": "28e8e7b0",
   "metadata": {},
   "outputs": [],
   "source": [
    "model.predict(padded_docs[1])"
   ]
  },
  {
   "cell_type": "code",
   "execution_count": null,
   "id": "d9775ede",
   "metadata": {},
   "outputs": [],
   "source": []
  }
 ],
 "metadata": {
  "kernelspec": {
   "display_name": "Python 3",
   "language": "python",
   "name": "python3"
  },
  "language_info": {
   "codemirror_mode": {
    "name": "ipython",
    "version": 3
   },
   "file_extension": ".py",
   "mimetype": "text/x-python",
   "name": "python",
   "nbconvert_exporter": "python",
   "pygments_lexer": "ipython3",
   "version": "3.8.8"
  }
 },
 "nbformat": 4,
 "nbformat_minor": 5
}
