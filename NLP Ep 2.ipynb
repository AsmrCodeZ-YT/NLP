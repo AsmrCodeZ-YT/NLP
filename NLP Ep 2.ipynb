{
 "cells": [
  {
   "cell_type": "markdown",
   "id": "1a4e9aea-b1b7-492e-99e3-82f509ff1198",
   "metadata": {},
   "source": [
    "                                 ASMRCodeZ\n",
    "\n",
    "###### @channel : @asmrcodez\n",
    "###### @author  : OMID Ebrahimi\n",
    "###### @Email   : omidh225@gmail.com\n"
   ]
  },
  {
   "cell_type": "code",
   "execution_count": 10,
   "id": "553ac778-2c37-4b6f-99ce-17adb45a84ce",
   "metadata": {},
   "outputs": [],
   "source": [
    "from nltk import sent_tokenize\n",
    "from nltk.corpus import stopwords\n",
    "from nltk.stem import PorterStemmer\n",
    "import re"
   ]
  },
  {
   "cell_type": "code",
   "execution_count": 1,
   "id": "a604fb29-dcd9-401d-bac1-f08a6128b3d1",
   "metadata": {},
   "outputs": [],
   "source": [
    "text = \"\"\"Section 1.10.32 of \"de Finibus Bonorum et Malorum\", written by Cicero in 45 BC\n",
    "\"Sed ut perspiciatis unde omnis iste natus error sit voluptatem accusantium doloremque\n",
    "laudantium, totam rem aperiam, eaque ipsa quae ab illo inventore veritatis et quasi \n",
    "architecto beatae vitae dicta sunt explicabo. Nemo enim ipsam voluptatem quia voluptas sit \n",
    "aspernatur aut odit aut fugit, sed quia consequuntur magni dolores eos qui ratione\n",
    "voluptatem sequi nesciunt. Neque porro quisquam est, qui dolorem ipsum quia dolor \n",
    "sit amet, consectetur, adipisci velit, sed quia non numquam eius modi tempora \n",
    "incidunt ut labore et dolore magnam aliquam quaerat voluptatem. Ut enim ad minima veniam, quis nostrum exercitationem ullam corporis suscipit laboriosam, nisi ut aliquid ex ea commodi consequatur? Quis autem vel eum iure reprehenderit qui in ea voluptate velit esse quam nihil molestiae consequatur, vel illum qui dolorem eum fugiat quo voluptas nulla pariatur?\"\n",
    "1914 translation by H. Rackham\n",
    "\"But I must explain to you how all this mistaken idea of denouncing pleasure and praising pain was born and I will give you a complete account of the system, and expound the actual teachings of the great explorer of the truth, the master-builder of human happiness. No one rejects, dislikes, or avoids pleasure itself, because it is pleasure, but because those who do not know how to pursue pleasure rationally encounter consequences that are extremely painful. Nor again is there anyone who loves or pursues or desires to obtain pain of itself, because it is pain, but because occasionally circumstances occur in which toil and pain can procure him some great pleasure. To take a trivial example, which of us ever undertakes laborious physical exercise, except to obtain some advantage from it? But who has\n",
    "any right to find fault with a man who chooses to enjoy a pleasure that has no annoying consequences, or one who avoids a pain that produces no resultant pleasure?\"\n",
    "\"\"\""
   ]
  },
  {
   "cell_type": "code",
   "execution_count": 19,
   "id": "409f5ea0-1a07-4527-a12d-09d9591fcccd",
   "metadata": {},
   "outputs": [],
   "source": [
    "sen = sent_tokenize(text)\n",
    "stemmer = PorterStemmer() \n",
    "\n",
    "new_text = []\n",
    "for sent in sen:\n",
    "    result = re.sub(\"[^a-zA-Z]\", \" \", sent)\n",
    "    result = re.sub(\"\\b[a-zA-Z]\\b\", \" \", result)\n",
    "    result = result.lower()\n",
    "    result = result.split()\n",
    "    result = [stemmer.stem(word) for word in result if not word in set(stopwords.words(\"english\"))]\n",
    "    final = \" \".join(result)\n",
    "    new_text.append(final)"
   ]
  },
  {
   "cell_type": "markdown",
   "id": "7c8ab392-3cde-4f5a-8e75-8a38b9297c08",
   "metadata": {},
   "source": [
    "# Part2 : Text To Vector (TTV)\n",
    "#### 1:Bag Of Word (BOW)\n",
    "#### 2:TfidfVectorizer  (TF-IDF)"
   ]
  },
  {
   "cell_type": "code",
   "execution_count": 26,
   "id": "43ccffcc-baab-4c2c-8373-8e1f0234b6cb",
   "metadata": {},
   "outputs": [
    {
     "data": {
      "text/plain": [
       "array([[1, 0, 1, ..., 0, 1, 1],\n",
       "       [0, 0, 0, ..., 1, 2, 0],\n",
       "       [0, 0, 0, ..., 0, 1, 0],\n",
       "       ...,\n",
       "       [0, 0, 0, ..., 0, 0, 0],\n",
       "       [0, 0, 0, ..., 0, 0, 0],\n",
       "       [0, 0, 0, ..., 0, 0, 0]], dtype=int64)"
      ]
     },
     "execution_count": 26,
     "metadata": {},
     "output_type": "execute_result"
    }
   ],
   "source": [
    "from sklearn.feature_extraction.text import CountVectorizer\n",
    "cv = CountVectorizer()\n",
    "bag_of_word = cv.fit_transform(new_text).toarray()\n",
    "bag_of_word"
   ]
  },
  {
   "cell_type": "code",
   "execution_count": 28,
   "id": "5545ce45-fbdb-430e-b3dd-39e76b49e1a5",
   "metadata": {},
   "outputs": [
    {
     "data": {
      "text/plain": [
       "array([[0.1599168 , 0.        , 0.1599168 , ..., 0.        , 0.11893484,\n",
       "        0.1599168 ],\n",
       "       [0.        , 0.        , 0.        , ..., 0.17522158, 0.30659635,\n",
       "        0.        ],\n",
       "       [0.        , 0.        , 0.        , ..., 0.        , 0.13907204,\n",
       "        0.        ],\n",
       "       ...,\n",
       "       [0.        , 0.        , 0.        , ..., 0.        , 0.        ,\n",
       "        0.        ],\n",
       "       [0.        , 0.        , 0.        , ..., 0.        , 0.        ,\n",
       "        0.        ],\n",
       "       [0.        , 0.        , 0.        , ..., 0.        , 0.        ,\n",
       "        0.        ]])"
      ]
     },
     "execution_count": 28,
     "metadata": {},
     "output_type": "execute_result"
    }
   ],
   "source": [
    "from sklearn.feature_extraction.text import TfidfVectorizer\n",
    "tf = TfidfVectorizer()\n",
    "tfidf = tf.fit_transform(new_text).toarray()\n",
    "tfidf"
   ]
  }
 ],
 "metadata": {
  "kernelspec": {
   "display_name": "Python 3 (ipykernel)",
   "language": "python",
   "name": "python3"
  },
  "language_info": {
   "codemirror_mode": {
    "name": "ipython",
    "version": 3
   },
   "file_extension": ".py",
   "mimetype": "text/x-python",
   "name": "python",
   "nbconvert_exporter": "python",
   "pygments_lexer": "ipython3",
   "version": "3.11.1"
  }
 },
 "nbformat": 4,
 "nbformat_minor": 5
}
